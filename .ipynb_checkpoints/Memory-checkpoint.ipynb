{
 "cells": [
  {
   "cell_type": "code",
   "execution_count": null,
   "id": "1c008610",
   "metadata": {},
   "outputs": [],
   "source": [
    "val path = System.getProperty(\"user.dir\") + \"/source/load-ivy.sc\"\n",
    "interp.load.module(ammonite.ops.Path(java.nio.file.FileSystems.getDefault().getPath(path)))"
   ]
  },
  {
   "cell_type": "code",
   "execution_count": null,
   "id": "d366c49e",
   "metadata": {},
   "outputs": [],
   "source": [
    "import chisel3._\n",
    "import chisel3.util._\n",
    "import chisel3.tester._\n",
    "import chisel3.util.Enum\n",
    "import chisel3.tester.RawTester.test"
   ]
  },
  {
   "cell_type": "code",
   "execution_count": null,
   "id": "d89a6ac4",
   "metadata": {},
   "outputs": [],
   "source": [
    "\n",
    "\n"
   ]
  },
  {
   "cell_type": "code",
   "execution_count": null,
   "id": "a8233305",
   "metadata": {},
   "outputs": [],
   "source": []
  },
  {
   "cell_type": "code",
   "execution_count": 11,
   "id": "c7e79800",
   "metadata": {},
   "outputs": [
    {
     "name": "stdout",
     "output_type": "stream",
     "text": [
      "Elaborating design...\n",
      "[\u001b[31merror\u001b[0m] \tat ... ()\n",
      "[\u001b[31merror\u001b[0m] \tat ammonite.$sess.cmd10$Helper$Memory.<init>(cmd10.sc:20)\n",
      "[\u001b[31merror\u001b[0m] \tat ammonite.$sess.cmd10$Helper.$anonfun$res10_1$1(cmd10.sc:59)\n",
      "[\u001b[31merror\u001b[0m] \tat ... ()\n",
      "[\u001b[31merror\u001b[0m] \tat ... (Stack trace trimmed to user code only. Rerun with --full-stacktrace to see the full stack trace)\n"
     ]
    },
    {
     "ename": "",
     "evalue": "",
     "output_type": "error",
     "traceback": [
      "\u001b[31mscala.MatchError: ChiselExecutionFailure(Failed to elaborate Chisel circuit) (of class chisel3.ChiselExecutionFailure)\u001b[39m\n  ammonite.$file.dummy.source.load$minusivy_2$Helper.getVerilog(\u001b[32mMain.sc\u001b[39m:\u001b[32m26\u001b[39m)\n  ammonite.$sess.cmd10$Helper.<init>(\u001b[32mcmd10.sc\u001b[39m:\u001b[32m59\u001b[39m)\n  ammonite.$sess.cmd10$.<init>(\u001b[32mcmd10.sc\u001b[39m:\u001b[32m7\u001b[39m)\n  ammonite.$sess.cmd10$.<clinit>(\u001b[32mcmd10.sc\u001b[39m:\u001b[32m-1\u001b[39m)"
     ]
    }
   ],
   "source": [
    "class Memory extends Module {\n",
    "    val io = IO(new Bundle {\n",
    "        val in = Flipped(Decoupled())\n",
    "        val data_in = Input(SInt(32.W))\n",
    "        val addr_in = Input(UInt(5.W))\n",
    "        val write_en = Input(Bool())\n",
    "        val out = Decoupled()\n",
    "        val data_out = Output(SInt(32.W))\n",
    "    })\n",
    "    \n",
    "    // Memory Array of 32, 32-bit elements\n",
    "    val mem = Mem(32, SInt())\n",
    "    \n",
    "    object State extends Enum {\n",
    "        val IDLE, READ, WRITE  = UInt(2.W) // i \"load\"  -> 000_0011\n",
    "    }\n",
    "    \n",
    "    // Define default outputs\n",
    "    io.data_out := WireDefault(io.data_in)\n",
    "    io.out.ready := WireDefault(false.B)\n",
    "    val state = RegInit(State.IDLE)\n",
    "    \n",
    "    //\n",
    "    switch(state) {\n",
    "        is (State.IDLE) {\n",
    "            when (io.in.valid) {\n",
    "                when (io.write_en) {\n",
    "                    state := State.WRITE\n",
    "                } .otherwise {\n",
    "                    state := State.READ\n",
    "                }\n",
    "            } .otherwise {\n",
    "                state := State.IDLE\n",
    "            }\n",
    "        }\n",
    "        is (State.READ) {\n",
    "            when (io.in.valid) {\n",
    "                io.data_out := mem(io.addr_in)\n",
    "                io.out.ready := true.B\n",
    "                state := State.IDLE\n",
    "            } .otherwise {\n",
    "                state := State.IDLE\n",
    "            }\n",
    "            \n",
    "        }\n",
    "        is (State.WRITE) {\n",
    "            when (io.in.valid) {\n",
    "                mem(io.addr_in) := io.data_in\n",
    "                io.out.ready := true.B\n",
    "                state := State.IDLE\n",
    "            } .otherwise {\n",
    "                state := State.IDLE\n",
    "            }\n",
    "        }\n",
    "    }\n",
    "}\n",
    "\n",
    "\n",
    "println(getVerilog(new Memory))"
   ]
  },
  {
   "cell_type": "code",
   "execution_count": null,
   "id": "39bebbee",
   "metadata": {},
   "outputs": [
    {
     "name": "stdout",
     "output_type": "stream",
     "text": [
      "Elaborating design...\n"
     ]
    }
   ],
   "source": [
    "test(new Memory) { c =>\n",
    "    \n",
    "    c.io.addr_in.poke(0.U)\n",
    "    c.io.data_in.poke(1.S)\n",
    "    c.io.write_en.poke(true.B)\n",
    "    c.clock.step(1)\n",
    "    c.io.in.valid.poke(true.B)\n",
    "    c.clock.step(1)\n",
    "    \n",
    "    \n",
    "//     c.io.in.poke(0.U)     // Set our input to value 0\n",
    "//     c.clock.step(1)    // advance the clock\n",
    "//     c.io.out.expect(0.U)  // Assert that the output correctly has 0\n",
    "//     c.io.in.poke(1.U)     // Set our input to value 1\n",
    "//     c.clock.step(1)    // advance the clock\n",
    "//     c.io.out.expect(1.U)  // Assert that the output correctly has 1\n",
    "//     c.io.in.poke(2.U)     // Set our input to value 2\n",
    "//     c.clock.step(1)    // advance the clock\n",
    "//     c.io.out.expect(2.U)  // Assert that the output correctly has 2\n",
    "}"
   ]
  },
  {
   "cell_type": "code",
   "execution_count": null,
   "id": "25734f99",
   "metadata": {},
   "outputs": [],
   "source": []
  },
  {
   "cell_type": "code",
   "execution_count": null,
   "id": "7e1f170f",
   "metadata": {},
   "outputs": [],
   "source": []
  }
 ],
 "metadata": {
  "kernelspec": {
   "display_name": "Scala",
   "language": "scala",
   "name": "scala"
  },
  "language_info": {
   "codemirror_mode": "text/x-scala",
   "file_extension": ".scala",
   "mimetype": "text/x-scala",
   "name": "scala",
   "nbconvert_exporter": "script",
   "version": "2.12.10"
  }
 },
 "nbformat": 4,
 "nbformat_minor": 5
}
